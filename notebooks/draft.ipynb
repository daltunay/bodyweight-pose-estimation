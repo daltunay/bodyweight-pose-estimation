{
 "cells": [
  {
   "cell_type": "code",
   "execution_count": 1,
   "metadata": {},
   "outputs": [],
   "source": [
    "%load_ext autoreload\n",
    "%autoreload 2"
   ]
  },
  {
   "cell_type": "code",
   "execution_count": 2,
   "metadata": {},
   "outputs": [],
   "source": [
    "import os\n",
    "os.chdir(\"..\")\n"
   ]
  },
  {
   "cell_type": "code",
   "execution_count": 293,
   "metadata": {},
   "outputs": [],
   "source": [
    "import pandas as pd\n",
    "import mediapipe as mp\n",
    "from src.data import Video\n",
    "from src.distances import lcss_dist\n",
    "from src.models.model import kNNClassifier\n",
    "from src.resources.joints import JOINTS\n",
    "from src.visualization import plot_3d_landmarks\n",
    "from src.models.model import kNNClassifier\n"
   ]
  },
  {
   "cell_type": "code",
   "execution_count": 247,
   "metadata": {},
   "outputs": [],
   "source": [
    "DATA_PROCESSED_FILEPATH = \"data\\\\processed\"\n",
    "\n",
    "X_train, y_train = [], []\n",
    "\n",
    "for (dirpath, _, filenames) in os.walk(DATA_PROCESSED_FILEPATH):\n",
    "    for frame_name in filenames:\n",
    "        x = pd.read_csv(os.path.join(dirpath, frame_name), index_col=0)\n",
    "        x.loc[\"orientation\"] = x.loc[\"orientation\"] / 90\n",
    "        y = dirpath.split(\"\\\\\")[-1]\n",
    "        X_train.append(x)\n",
    "        y_train.append(y)\n"
   ]
  },
  {
   "cell_type": "code",
   "execution_count": 246,
   "metadata": {},
   "outputs": [
    {
     "name": "stderr",
     "output_type": "stream",
     "text": [
      "webcam: 88it [00:11,  7.34it/s]\n",
      "webcam: 81it [00:13,  5.86it/s]\n",
      "webcam: 94it [00:12,  7.57it/s]\n",
      "webcam: 110it [00:14,  7.73it/s]\n",
      "webcam: 159it [00:17,  9.12it/s]\n",
      "webcam: 173it [00:21,  7.91it/s]\n"
     ]
    }
   ],
   "source": [
    "X_test = []\n",
    "\n",
    "for _ in range(6):\n",
    "    vid = Video(path=1)\n",
    "    vid.get_landmarks(model_complexity=2, show=True)\n",
    "    vid.extract_coordinates()\n",
    "    vid.extract_angles(JOINTS)\n",
    "\n",
    "    vid._angles.smooth(inplace=True)\n",
    "    # vid._angles.scale(inplace=True)\n",
    "\n",
    "    X_test.append(vid._angles.frame)\n"
   ]
  },
  {
   "cell_type": "code",
   "execution_count": 310,
   "metadata": {},
   "outputs": [
    {
     "data": {
      "text/plain": [
       "[{'pullup': 0.6666666666666666, 'pushup': 0.3333333333333333},\n",
       " {'pullup': 0.6666666666666666, 'pushup': 0.3333333333333333},\n",
       " {'squat': 1.0},\n",
       " {'squat': 1.0},\n",
       " {'pushup': 1.0},\n",
       " {'pushup': 0.6666666666666666, 'pullup': 0.3333333333333333}]"
      ]
     },
     "execution_count": 310,
     "metadata": {},
     "output_type": "execute_result"
    }
   ],
   "source": [
    "knn = kNNClassifier(k=3, epsilon=150)\n",
    "knn.fit(X=X_train, y=y_train)\n",
    "knn._predict(X_test)"
   ]
  },
  {
   "cell_type": "code",
   "execution_count": null,
   "metadata": {},
   "outputs": [],
   "source": [
    "import pandas as pd\n",
    "\n",
    "predictions = knn._predict(X_test)\n",
    "pd.DataFrame(predictions)"
   ]
  },
  {
   "cell_type": "markdown",
   "metadata": {},
   "source": [
    "<img src=\"https://i.imgur.com/3j8BPdc.png\" style=\"width:800px\" >"
   ]
  },
  {
   "cell_type": "code",
   "execution_count": null,
   "metadata": {},
   "outputs": [],
   "source": [
    "vid = Video(path=1)\n",
    "vid.get_landmarks(show=True, model_complexity=1)\n",
    "vid.extract_coordinates()"
   ]
  },
  {
   "cell_type": "code",
   "execution_count": null,
   "metadata": {},
   "outputs": [],
   "source": [
    "vid.extract_angles(angle_list=JOINTS[\"left\"])\n",
    "vid._angles.plot()"
   ]
  },
  {
   "cell_type": "code",
   "execution_count": null,
   "metadata": {},
   "outputs": [],
   "source": [
    "vid._angles.smooth(inplace=True)\n",
    "vid._angles.plot()"
   ]
  },
  {
   "cell_type": "code",
   "execution_count": null,
   "metadata": {},
   "outputs": [],
   "source": [
    "plot_3d_landmarks(\n",
    "    landmark_list=vid.landmarks_series[-1],\n",
    "    connections=mp.solutions.pose.POSE_CONNECTIONS,\n",
    ")\n"
   ]
  }
 ],
 "metadata": {
  "kernelspec": {
   "display_name": "Python 3.8.10 ('bwest-kKtnXqVU-py3.8')",
   "language": "python",
   "name": "python3"
  },
  "language_info": {
   "codemirror_mode": {
    "name": "ipython",
    "version": 3
   },
   "file_extension": ".py",
   "mimetype": "text/x-python",
   "name": "python",
   "nbconvert_exporter": "python",
   "pygments_lexer": "ipython3",
   "version": "3.8.10"
  },
  "orig_nbformat": 4,
  "vscode": {
   "interpreter": {
    "hash": "bb3ecc132ea45047b41482cfe405e4b464f8287fd2e425f10bacedf5bd881be9"
   }
  }
 },
 "nbformat": 4,
 "nbformat_minor": 2
}
