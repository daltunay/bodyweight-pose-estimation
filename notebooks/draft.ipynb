{
 "cells": [
  {
   "cell_type": "code",
   "execution_count": 1,
   "metadata": {},
   "outputs": [],
   "source": [
    "%load_ext autoreload\n",
    "%autoreload 2"
   ]
  },
  {
   "cell_type": "code",
   "execution_count": 2,
   "metadata": {},
   "outputs": [],
   "source": [
    "import os\n",
    "os.chdir(\"..\")\n"
   ]
  },
  {
   "cell_type": "code",
   "execution_count": 3,
   "metadata": {},
   "outputs": [],
   "source": [
    "import pandas as pd\n",
    "import mediapipe as mp\n",
    "from src.data import Video\n",
    "from src.distances import lcss_dist\n",
    "from src.models.model import kNNClassifier\n",
    "from src.resources.joints import JOINTS\n",
    "from src.visualization import plot_3d_landmarks\n"
   ]
  },
  {
   "cell_type": "markdown",
   "metadata": {},
   "source": [
    "<img src=\"https://i.imgur.com/3j8BPdc.png\" style=\"width:800px\" >"
   ]
  },
  {
   "cell_type": "code",
   "execution_count": 4,
   "metadata": {},
   "outputs": [],
   "source": [
    "DATA_PROCESSED_FILEPATH = \"data\\\\processed\"\n",
    "\n",
    "X_train, y_train = [], []\n",
    "\n",
    "for (dirpath, _, filenames) in os.walk(DATA_PROCESSED_FILEPATH):\n",
    "    for frame_name in filenames:\n",
    "        x = pd.read_csv(os.path.join(dirpath, frame_name), index_col=0)\n",
    "        y = dirpath.split(\"\\\\\")[-1]\n",
    "        X_train.append(x)\n",
    "        y_train.append(y)\n"
   ]
  },
  {
   "cell_type": "code",
   "execution_count": 5,
   "metadata": {},
   "outputs": [
    {
     "data": {
      "text/html": [
       "<div>\n",
       "<style scoped>\n",
       "    .dataframe tbody tr th:only-of-type {\n",
       "        vertical-align: middle;\n",
       "    }\n",
       "\n",
       "    .dataframe tbody tr th {\n",
       "        vertical-align: top;\n",
       "    }\n",
       "\n",
       "    .dataframe thead th {\n",
       "        text-align: right;\n",
       "    }\n",
       "</style>\n",
       "<table border=\"1\" class=\"dataframe\">\n",
       "  <thead>\n",
       "    <tr style=\"text-align: right;\">\n",
       "      <th></th>\n",
       "      <th>0.0</th>\n",
       "      <th>0.033333333</th>\n",
       "      <th>0.066666666</th>\n",
       "      <th>0.1</th>\n",
       "      <th>0.133333333</th>\n",
       "      <th>0.166666666</th>\n",
       "      <th>0.2</th>\n",
       "      <th>0.233333333</th>\n",
       "      <th>0.266666666</th>\n",
       "      <th>0.3</th>\n",
       "      <th>...</th>\n",
       "      <th>13.9</th>\n",
       "      <th>13.933333333</th>\n",
       "      <th>13.966666666</th>\n",
       "      <th>14.0</th>\n",
       "      <th>14.033333333</th>\n",
       "      <th>14.066666666</th>\n",
       "      <th>14.1</th>\n",
       "      <th>14.133333333</th>\n",
       "      <th>14.166666666</th>\n",
       "      <th>14.2</th>\n",
       "    </tr>\n",
       "  </thead>\n",
       "  <tbody>\n",
       "    <tr>\n",
       "      <th>(left_shoulder,\\n                    left_elbow,\\n                    left_wrist)</th>\n",
       "      <td>134.472415</td>\n",
       "      <td>135.681745</td>\n",
       "      <td>136.865995</td>\n",
       "      <td>138.022451</td>\n",
       "      <td>139.148307</td>\n",
       "      <td>140.240971</td>\n",
       "      <td>141.298448</td>\n",
       "      <td>142.319789</td>\n",
       "      <td>143.305519</td>\n",
       "      <td>144.257823</td>\n",
       "      <td>...</td>\n",
       "      <td>150.486841</td>\n",
       "      <td>149.881567</td>\n",
       "      <td>149.291967</td>\n",
       "      <td>148.722280</td>\n",
       "      <td>148.176066</td>\n",
       "      <td>147.656133</td>\n",
       "      <td>147.164446</td>\n",
       "      <td>146.702102</td>\n",
       "      <td>146.269370</td>\n",
       "      <td>145.865774</td>\n",
       "    </tr>\n",
       "    <tr>\n",
       "      <th>(left_elbow,\\n                    left_shoulder,\\n                    left_hip)</th>\n",
       "      <td>38.538229</td>\n",
       "      <td>42.963269</td>\n",
       "      <td>47.310769</td>\n",
       "      <td>51.574067</td>\n",
       "      <td>55.746771</td>\n",
       "      <td>59.823080</td>\n",
       "      <td>63.798201</td>\n",
       "      <td>67.668862</td>\n",
       "      <td>71.434013</td>\n",
       "      <td>75.095932</td>\n",
       "      <td>...</td>\n",
       "      <td>37.704207</td>\n",
       "      <td>34.060474</td>\n",
       "      <td>30.441868</td>\n",
       "      <td>26.855436</td>\n",
       "      <td>23.307221</td>\n",
       "      <td>19.802212</td>\n",
       "      <td>16.344301</td>\n",
       "      <td>12.936215</td>\n",
       "      <td>9.579445</td>\n",
       "      <td>6.274162</td>\n",
       "    </tr>\n",
       "    <tr>\n",
       "      <th>(left_shoulder,\\n                    left_hip,\\n                    left_knee)</th>\n",
       "      <td>165.409703</td>\n",
       "      <td>159.653698</td>\n",
       "      <td>154.001747</td>\n",
       "      <td>148.465566</td>\n",
       "      <td>143.057229</td>\n",
       "      <td>137.788744</td>\n",
       "      <td>132.671559</td>\n",
       "      <td>127.715947</td>\n",
       "      <td>122.930304</td>\n",
       "      <td>118.320390</td>\n",
       "      <td>...</td>\n",
       "      <td>155.300942</td>\n",
       "      <td>160.850943</td>\n",
       "      <td>166.366417</td>\n",
       "      <td>171.836739</td>\n",
       "      <td>177.252716</td>\n",
       "      <td>182.606692</td>\n",
       "      <td>187.892657</td>\n",
       "      <td>193.106356</td>\n",
       "      <td>198.245392</td>\n",
       "      <td>203.309353</td>\n",
       "    </tr>\n",
       "    <tr>\n",
       "      <th>(nose,\\n                    left_hip,\\n                    left_ankle)</th>\n",
       "      <td>173.710876</td>\n",
       "      <td>172.923511</td>\n",
       "      <td>172.153938</td>\n",
       "      <td>171.403133</td>\n",
       "      <td>170.671845</td>\n",
       "      <td>169.960555</td>\n",
       "      <td>169.269434</td>\n",
       "      <td>168.598355</td>\n",
       "      <td>167.946878</td>\n",
       "      <td>167.314268</td>\n",
       "      <td>...</td>\n",
       "      <td>173.074067</td>\n",
       "      <td>173.679337</td>\n",
       "      <td>174.289446</td>\n",
       "      <td>174.903667</td>\n",
       "      <td>175.521241</td>\n",
       "      <td>176.141422</td>\n",
       "      <td>176.763506</td>\n",
       "      <td>177.386853</td>\n",
       "      <td>178.010909</td>\n",
       "      <td>178.635222</td>\n",
       "    </tr>\n",
       "    <tr>\n",
       "      <th>(left_hip,\\n                    left_knee,\\n                    left_ankle)</th>\n",
       "      <td>167.611785</td>\n",
       "      <td>161.420560</td>\n",
       "      <td>155.349492</td>\n",
       "      <td>149.409820</td>\n",
       "      <td>143.612510</td>\n",
       "      <td>137.967790</td>\n",
       "      <td>132.484725</td>\n",
       "      <td>127.170825</td>\n",
       "      <td>122.031709</td>\n",
       "      <td>117.070739</td>\n",
       "      <td>...</td>\n",
       "      <td>162.577261</td>\n",
       "      <td>169.018359</td>\n",
       "      <td>175.441337</td>\n",
       "      <td>181.835599</td>\n",
       "      <td>188.191651</td>\n",
       "      <td>194.501270</td>\n",
       "      <td>200.757692</td>\n",
       "      <td>206.955771</td>\n",
       "      <td>213.092117</td>\n",
       "      <td>219.165275</td>\n",
       "    </tr>\n",
       "    <tr>\n",
       "      <th>(left_elbow,\\n                    nose,\\n                    right_elbow)</th>\n",
       "      <td>38.125589</td>\n",
       "      <td>37.550290</td>\n",
       "      <td>36.973929</td>\n",
       "      <td>36.397556</td>\n",
       "      <td>35.822497</td>\n",
       "      <td>35.250300</td>\n",
       "      <td>34.682712</td>\n",
       "      <td>34.121642</td>\n",
       "      <td>33.569097</td>\n",
       "      <td>33.027061</td>\n",
       "      <td>...</td>\n",
       "      <td>35.072449</td>\n",
       "      <td>34.374446</td>\n",
       "      <td>33.665153</td>\n",
       "      <td>32.945708</td>\n",
       "      <td>32.217205</td>\n",
       "      <td>31.480710</td>\n",
       "      <td>30.737242</td>\n",
       "      <td>29.987796</td>\n",
       "      <td>29.233352</td>\n",
       "      <td>28.474825</td>\n",
       "    </tr>\n",
       "    <tr>\n",
       "      <th>(left_hip,\\n                    nose,\\n                    right_hip)</th>\n",
       "      <td>10.172427</td>\n",
       "      <td>10.251762</td>\n",
       "      <td>10.329508</td>\n",
       "      <td>10.405600</td>\n",
       "      <td>10.479990</td>\n",
       "      <td>10.552648</td>\n",
       "      <td>10.623560</td>\n",
       "      <td>10.692731</td>\n",
       "      <td>10.760188</td>\n",
       "      <td>10.825995</td>\n",
       "      <td>...</td>\n",
       "      <td>11.331010</td>\n",
       "      <td>11.274511</td>\n",
       "      <td>11.217148</td>\n",
       "      <td>11.158881</td>\n",
       "      <td>11.099686</td>\n",
       "      <td>11.039554</td>\n",
       "      <td>10.978492</td>\n",
       "      <td>10.916522</td>\n",
       "      <td>10.853675</td>\n",
       "      <td>10.789999</td>\n",
       "    </tr>\n",
       "    <tr>\n",
       "      <th>(left_shoulder,\\n                    nose,\\n                    right_shoulder)</th>\n",
       "      <td>37.974179</td>\n",
       "      <td>38.731439</td>\n",
       "      <td>39.478218</td>\n",
       "      <td>40.213617</td>\n",
       "      <td>40.936778</td>\n",
       "      <td>41.646910</td>\n",
       "      <td>42.343319</td>\n",
       "      <td>43.025436</td>\n",
       "      <td>43.692863</td>\n",
       "      <td>44.345404</td>\n",
       "      <td>...</td>\n",
       "      <td>41.097688</td>\n",
       "      <td>40.427681</td>\n",
       "      <td>39.751424</td>\n",
       "      <td>39.069668</td>\n",
       "      <td>38.383152</td>\n",
       "      <td>37.692599</td>\n",
       "      <td>36.998704</td>\n",
       "      <td>36.302124</td>\n",
       "      <td>35.603476</td>\n",
       "      <td>34.903310</td>\n",
       "    </tr>\n",
       "    <tr>\n",
       "      <th>orientation</th>\n",
       "      <td>6.427362</td>\n",
       "      <td>6.484728</td>\n",
       "      <td>6.540611</td>\n",
       "      <td>6.594882</td>\n",
       "      <td>6.647417</td>\n",
       "      <td>6.698099</td>\n",
       "      <td>6.746823</td>\n",
       "      <td>6.793508</td>\n",
       "      <td>6.838097</td>\n",
       "      <td>6.880564</td>\n",
       "      <td>...</td>\n",
       "      <td>7.519348</td>\n",
       "      <td>7.401028</td>\n",
       "      <td>7.282929</td>\n",
       "      <td>7.165218</td>\n",
       "      <td>7.048047</td>\n",
       "      <td>6.931555</td>\n",
       "      <td>6.815858</td>\n",
       "      <td>6.701052</td>\n",
       "      <td>6.587204</td>\n",
       "      <td>6.474349</td>\n",
       "    </tr>\n",
       "  </tbody>\n",
       "</table>\n",
       "<p>9 rows × 427 columns</p>\n",
       "</div>"
      ],
      "text/plain": [
       "                                                           0.0  0.033333333  \\\n",
       "(left_shoulder,\\n                    left_elbow...  134.472415   135.681745   \n",
       "(left_elbow,\\n                    left_shoulder...   38.538229    42.963269   \n",
       "(left_shoulder,\\n                    left_hip,\\...  165.409703   159.653698   \n",
       "(nose,\\n                    left_hip,\\n        ...  173.710876   172.923511   \n",
       "(left_hip,\\n                    left_knee,\\n   ...  167.611785   161.420560   \n",
       "(left_elbow,\\n                    nose,\\n      ...   38.125589    37.550290   \n",
       "(left_hip,\\n                    nose,\\n        ...   10.172427    10.251762   \n",
       "(left_shoulder,\\n                    nose,\\n   ...   37.974179    38.731439   \n",
       "orientation                                           6.427362     6.484728   \n",
       "\n",
       "                                                    0.066666666         0.1  \\\n",
       "(left_shoulder,\\n                    left_elbow...   136.865995  138.022451   \n",
       "(left_elbow,\\n                    left_shoulder...    47.310769   51.574067   \n",
       "(left_shoulder,\\n                    left_hip,\\...   154.001747  148.465566   \n",
       "(nose,\\n                    left_hip,\\n        ...   172.153938  171.403133   \n",
       "(left_hip,\\n                    left_knee,\\n   ...   155.349492  149.409820   \n",
       "(left_elbow,\\n                    nose,\\n      ...    36.973929   36.397556   \n",
       "(left_hip,\\n                    nose,\\n        ...    10.329508   10.405600   \n",
       "(left_shoulder,\\n                    nose,\\n   ...    39.478218   40.213617   \n",
       "orientation                                            6.540611    6.594882   \n",
       "\n",
       "                                                    0.133333333  0.166666666  \\\n",
       "(left_shoulder,\\n                    left_elbow...   139.148307   140.240971   \n",
       "(left_elbow,\\n                    left_shoulder...    55.746771    59.823080   \n",
       "(left_shoulder,\\n                    left_hip,\\...   143.057229   137.788744   \n",
       "(nose,\\n                    left_hip,\\n        ...   170.671845   169.960555   \n",
       "(left_hip,\\n                    left_knee,\\n   ...   143.612510   137.967790   \n",
       "(left_elbow,\\n                    nose,\\n      ...    35.822497    35.250300   \n",
       "(left_hip,\\n                    nose,\\n        ...    10.479990    10.552648   \n",
       "(left_shoulder,\\n                    nose,\\n   ...    40.936778    41.646910   \n",
       "orientation                                            6.647417     6.698099   \n",
       "\n",
       "                                                           0.2  0.233333333  \\\n",
       "(left_shoulder,\\n                    left_elbow...  141.298448   142.319789   \n",
       "(left_elbow,\\n                    left_shoulder...   63.798201    67.668862   \n",
       "(left_shoulder,\\n                    left_hip,\\...  132.671559   127.715947   \n",
       "(nose,\\n                    left_hip,\\n        ...  169.269434   168.598355   \n",
       "(left_hip,\\n                    left_knee,\\n   ...  132.484725   127.170825   \n",
       "(left_elbow,\\n                    nose,\\n      ...   34.682712    34.121642   \n",
       "(left_hip,\\n                    nose,\\n        ...   10.623560    10.692731   \n",
       "(left_shoulder,\\n                    nose,\\n   ...   42.343319    43.025436   \n",
       "orientation                                           6.746823     6.793508   \n",
       "\n",
       "                                                    0.266666666         0.3  \\\n",
       "(left_shoulder,\\n                    left_elbow...   143.305519  144.257823   \n",
       "(left_elbow,\\n                    left_shoulder...    71.434013   75.095932   \n",
       "(left_shoulder,\\n                    left_hip,\\...   122.930304  118.320390   \n",
       "(nose,\\n                    left_hip,\\n        ...   167.946878  167.314268   \n",
       "(left_hip,\\n                    left_knee,\\n   ...   122.031709  117.070739   \n",
       "(left_elbow,\\n                    nose,\\n      ...    33.569097   33.027061   \n",
       "(left_hip,\\n                    nose,\\n        ...    10.760188   10.825995   \n",
       "(left_shoulder,\\n                    nose,\\n   ...    43.692863   44.345404   \n",
       "orientation                                            6.838097    6.880564   \n",
       "\n",
       "                                                    ...        13.9  \\\n",
       "(left_shoulder,\\n                    left_elbow...  ...  150.486841   \n",
       "(left_elbow,\\n                    left_shoulder...  ...   37.704207   \n",
       "(left_shoulder,\\n                    left_hip,\\...  ...  155.300942   \n",
       "(nose,\\n                    left_hip,\\n        ...  ...  173.074067   \n",
       "(left_hip,\\n                    left_knee,\\n   ...  ...  162.577261   \n",
       "(left_elbow,\\n                    nose,\\n      ...  ...   35.072449   \n",
       "(left_hip,\\n                    nose,\\n        ...  ...   11.331010   \n",
       "(left_shoulder,\\n                    nose,\\n   ...  ...   41.097688   \n",
       "orientation                                         ...    7.519348   \n",
       "\n",
       "                                                    13.933333333  \\\n",
       "(left_shoulder,\\n                    left_elbow...    149.881567   \n",
       "(left_elbow,\\n                    left_shoulder...     34.060474   \n",
       "(left_shoulder,\\n                    left_hip,\\...    160.850943   \n",
       "(nose,\\n                    left_hip,\\n        ...    173.679337   \n",
       "(left_hip,\\n                    left_knee,\\n   ...    169.018359   \n",
       "(left_elbow,\\n                    nose,\\n      ...     34.374446   \n",
       "(left_hip,\\n                    nose,\\n        ...     11.274511   \n",
       "(left_shoulder,\\n                    nose,\\n   ...     40.427681   \n",
       "orientation                                             7.401028   \n",
       "\n",
       "                                                    13.966666666        14.0  \\\n",
       "(left_shoulder,\\n                    left_elbow...    149.291967  148.722280   \n",
       "(left_elbow,\\n                    left_shoulder...     30.441868   26.855436   \n",
       "(left_shoulder,\\n                    left_hip,\\...    166.366417  171.836739   \n",
       "(nose,\\n                    left_hip,\\n        ...    174.289446  174.903667   \n",
       "(left_hip,\\n                    left_knee,\\n   ...    175.441337  181.835599   \n",
       "(left_elbow,\\n                    nose,\\n      ...     33.665153   32.945708   \n",
       "(left_hip,\\n                    nose,\\n        ...     11.217148   11.158881   \n",
       "(left_shoulder,\\n                    nose,\\n   ...     39.751424   39.069668   \n",
       "orientation                                             7.282929    7.165218   \n",
       "\n",
       "                                                    14.033333333  \\\n",
       "(left_shoulder,\\n                    left_elbow...    148.176066   \n",
       "(left_elbow,\\n                    left_shoulder...     23.307221   \n",
       "(left_shoulder,\\n                    left_hip,\\...    177.252716   \n",
       "(nose,\\n                    left_hip,\\n        ...    175.521241   \n",
       "(left_hip,\\n                    left_knee,\\n   ...    188.191651   \n",
       "(left_elbow,\\n                    nose,\\n      ...     32.217205   \n",
       "(left_hip,\\n                    nose,\\n        ...     11.099686   \n",
       "(left_shoulder,\\n                    nose,\\n   ...     38.383152   \n",
       "orientation                                             7.048047   \n",
       "\n",
       "                                                    14.066666666        14.1  \\\n",
       "(left_shoulder,\\n                    left_elbow...    147.656133  147.164446   \n",
       "(left_elbow,\\n                    left_shoulder...     19.802212   16.344301   \n",
       "(left_shoulder,\\n                    left_hip,\\...    182.606692  187.892657   \n",
       "(nose,\\n                    left_hip,\\n        ...    176.141422  176.763506   \n",
       "(left_hip,\\n                    left_knee,\\n   ...    194.501270  200.757692   \n",
       "(left_elbow,\\n                    nose,\\n      ...     31.480710   30.737242   \n",
       "(left_hip,\\n                    nose,\\n        ...     11.039554   10.978492   \n",
       "(left_shoulder,\\n                    nose,\\n   ...     37.692599   36.998704   \n",
       "orientation                                             6.931555    6.815858   \n",
       "\n",
       "                                                    14.133333333  \\\n",
       "(left_shoulder,\\n                    left_elbow...    146.702102   \n",
       "(left_elbow,\\n                    left_shoulder...     12.936215   \n",
       "(left_shoulder,\\n                    left_hip,\\...    193.106356   \n",
       "(nose,\\n                    left_hip,\\n        ...    177.386853   \n",
       "(left_hip,\\n                    left_knee,\\n   ...    206.955771   \n",
       "(left_elbow,\\n                    nose,\\n      ...     29.987796   \n",
       "(left_hip,\\n                    nose,\\n        ...     10.916522   \n",
       "(left_shoulder,\\n                    nose,\\n   ...     36.302124   \n",
       "orientation                                             6.701052   \n",
       "\n",
       "                                                    14.166666666        14.2  \n",
       "(left_shoulder,\\n                    left_elbow...    146.269370  145.865774  \n",
       "(left_elbow,\\n                    left_shoulder...      9.579445    6.274162  \n",
       "(left_shoulder,\\n                    left_hip,\\...    198.245392  203.309353  \n",
       "(nose,\\n                    left_hip,\\n        ...    178.010909  178.635222  \n",
       "(left_hip,\\n                    left_knee,\\n   ...    213.092117  219.165275  \n",
       "(left_elbow,\\n                    nose,\\n      ...     29.233352   28.474825  \n",
       "(left_hip,\\n                    nose,\\n        ...     10.853675   10.789999  \n",
       "(left_shoulder,\\n                    nose,\\n   ...     35.603476   34.903310  \n",
       "orientation                                             6.587204    6.474349  \n",
       "\n",
       "[9 rows x 427 columns]"
      ]
     },
     "execution_count": 5,
     "metadata": {},
     "output_type": "execute_result"
    }
   ],
   "source": [
    "x"
   ]
  },
  {
   "cell_type": "code",
   "execution_count": 6,
   "metadata": {},
   "outputs": [
    {
     "name": "stderr",
     "output_type": "stream",
     "text": [
      "webcam: 51it [00:07,  6.46it/s]\n"
     ]
    }
   ],
   "source": [
    "X_test = []\n",
    "\n",
    "for _ in range(1):\n",
    "    vid = Video(path=1)\n",
    "    vid.get_landmarks(model_complexity=2, show=True)\n",
    "    vid.extract_coordinates()\n",
    "    vid.extract_angles(JOINTS)\n",
    "\n",
    "    vid._angles.smooth(inplace=True)\n",
    "    # vid._angles.scale(inplace=True)\n",
    "\n",
    "    X_test.append(vid._angles.frame)\n"
   ]
  },
  {
   "cell_type": "code",
   "execution_count": 7,
   "metadata": {},
   "outputs": [
    {
     "data": {
      "text/plain": [
       "[{'pullup': 0.5, 'pushup': 0.5}]"
      ]
     },
     "execution_count": 7,
     "metadata": {},
     "output_type": "execute_result"
    }
   ],
   "source": [
    "knn = kNNClassifier(k=4, epsilon=150)\n",
    "knn.fit(X=X_train, y=y_train)\n",
    "knn._predict(X_test)"
   ]
  },
  {
   "cell_type": "code",
   "execution_count": 8,
   "metadata": {},
   "outputs": [
    {
     "data": {
      "text/html": [
       "<div>\n",
       "<style scoped>\n",
       "    .dataframe tbody tr th:only-of-type {\n",
       "        vertical-align: middle;\n",
       "    }\n",
       "\n",
       "    .dataframe tbody tr th {\n",
       "        vertical-align: top;\n",
       "    }\n",
       "\n",
       "    .dataframe thead th {\n",
       "        text-align: right;\n",
       "    }\n",
       "</style>\n",
       "<table border=\"1\" class=\"dataframe\">\n",
       "  <thead>\n",
       "    <tr style=\"text-align: right;\">\n",
       "      <th></th>\n",
       "      <th>pullup</th>\n",
       "      <th>pushup</th>\n",
       "    </tr>\n",
       "  </thead>\n",
       "  <tbody>\n",
       "    <tr>\n",
       "      <th>0</th>\n",
       "      <td>0.5</td>\n",
       "      <td>0.5</td>\n",
       "    </tr>\n",
       "  </tbody>\n",
       "</table>\n",
       "</div>"
      ],
      "text/plain": [
       "   pullup  pushup\n",
       "0     0.5     0.5"
      ]
     },
     "execution_count": 8,
     "metadata": {},
     "output_type": "execute_result"
    }
   ],
   "source": [
    "import pandas as pd\n",
    "\n",
    "predictions = knn._predict(X_test)\n",
    "pd.DataFrame(predictions)"
   ]
  },
  {
   "cell_type": "code",
   "execution_count": 11,
   "metadata": {},
   "outputs": [
    {
     "data": {
      "application/vnd.plotly.v1+json": {
       "config": {
        "plotlyServerURL": "https://plot.ly"
       },
       "data": [
        {
         "hovertemplate": "<b>%{hovertext}</b><br><br>z=%{x}<br>x=%{y}<br>y=%{z}<extra></extra>",
         "hovertext": [
          "NOSE",
          "LEFT_EYE_INNER",
          "LEFT_EYE",
          "LEFT_EYE_OUTER",
          "RIGHT_EYE_INNER",
          "RIGHT_EYE",
          "RIGHT_EYE_OUTER",
          "LEFT_EAR",
          "RIGHT_EAR",
          "MOUTH_LEFT",
          "MOUTH_RIGHT",
          "LEFT_SHOULDER",
          "RIGHT_SHOULDER",
          "LEFT_ELBOW",
          "RIGHT_ELBOW",
          "LEFT_WRIST",
          "RIGHT_WRIST",
          "LEFT_PINKY",
          "RIGHT_PINKY",
          "LEFT_INDEX",
          "RIGHT_INDEX",
          "LEFT_THUMB",
          "RIGHT_THUMB",
          "LEFT_HIP",
          "RIGHT_HIP"
         ],
         "legendgroup": "",
         "marker": {
          "color": "red",
          "symbol": "circle"
         },
         "mode": "markers",
         "name": "",
         "scene": "scene",
         "showlegend": false,
         "type": "scatter3d",
         "x": [
          0.2792750895023346,
          0.2743086516857147,
          0.2645381689071655,
          0.26659107208251953,
          0.28660833835601807,
          0.30069613456726074,
          0.2809877097606659,
          0.18608435988426208,
          0.17314882576465607,
          0.23284323513507843,
          0.2573028802871704,
          0.060446299612522125,
          0.016323266550898552,
          0.14853347837924957,
          0.11904685944318771,
          0.2733322083950043,
          0.2790640890598297,
          0.3013584613800049,
          0.32403820753097534,
          0.3107832372188568,
          0.34124815464019775,
          0.28762128949165344,
          0.2960396111011505,
          -0.03363411873579025,
          0.03353531286120415
         ],
         "y": [
          0.02436388097703457,
          0.04772317409515381,
          0.04870361089706421,
          0.04683712497353554,
          0.02219058945775032,
          0.02579558826982975,
          0.02681814320385456,
          0.12132662534713745,
          -0.02564033679664135,
          0.06500767171382904,
          0.02415476366877556,
          0.21671582758426666,
          -0.08436223119497299,
          0.4035605192184448,
          -0.22567537426948547,
          0.4657003581523895,
          -0.28707167506217957,
          0.4865707457065582,
          -0.2758682668209076,
          0.4581213891506195,
          -0.24532753229141235,
          0.46575090289115906,
          -0.2762156128883362,
          0.09439298510551453,
          -0.09021320194005966
         ],
         "z": [
          0.6170272827148438,
          0.635943591594696,
          0.6371604204177856,
          0.6365863084793091,
          0.6489159464836121,
          0.6465753316879272,
          0.6357690691947937,
          0.6181405186653137,
          0.5924866795539856,
          0.5994143486022949,
          0.570460855960846,
          0.47709405422210693,
          0.5362740159034729,
          0.3703615069389343,
          0.3011121153831482,
          0.3577614426612854,
          0.2280236929655075,
          0.36105525493621826,
          0.21411877870559692,
          0.39093732833862305,
          0.2546824514865875,
          0.3535439372062683,
          0.23629511892795563,
          -0.004712908528745174,
          0.013103106990456581
         ]
        },
        {
         "line": {
          "color": "black",
          "width": 5
         },
         "mode": "lines",
         "name": "connections",
         "type": "scatter3d",
         "x": [
          0.2733322083950043,
          0.28762128949165344,
          null,
          0.2790640890598297,
          0.34124815464019775,
          null,
          0.32403820753097534,
          0.34124815464019775,
          null,
          0.26659107208251953,
          0.18608435988426208,
          null,
          0.11904685944318771,
          0.2790640890598297,
          null,
          0.060446299612522125,
          -0.03363411873579025,
          null,
          0.2809877097606659,
          0.17314882576465607,
          null,
          0.2733322083950043,
          0.3013584613800049,
          null,
          0.2790640890598297,
          0.2960396111011505,
          null,
          0.28660833835601807,
          0.30069613456726074,
          null,
          0.30069613456726074,
          0.2809877097606659,
          null,
          0.016323266550898552,
          0.03353531286120415,
          null,
          -0.03363411873579025,
          0.03353531286120415,
          null,
          0.2792750895023346,
          0.2743086516857147,
          null,
          0.23284323513507843,
          0.2573028802871704,
          null,
          0.2743086516857147,
          0.2645381689071655,
          null,
          0.2792750895023346,
          0.28660833835601807,
          null,
          0.060446299612522125,
          0.14853347837924957,
          null,
          0.2733322083950043,
          0.3107832372188568,
          null,
          0.2790640890598297,
          0.32403820753097534,
          null,
          0.016323266550898552,
          0.11904685944318771,
          null,
          0.3013584613800049,
          0.3107832372188568,
          null,
          0.2645381689071655,
          0.26659107208251953,
          null,
          0.060446299612522125,
          0.016323266550898552,
          null,
          0.14853347837924957,
          0.2733322083950043,
          null
         ],
         "y": [
          0.4657003581523895,
          0.46575090289115906,
          null,
          -0.28707167506217957,
          -0.24532753229141235,
          null,
          -0.2758682668209076,
          -0.24532753229141235,
          null,
          0.04683712497353554,
          0.12132662534713745,
          null,
          -0.22567537426948547,
          -0.28707167506217957,
          null,
          0.21671582758426666,
          0.09439298510551453,
          null,
          0.02681814320385456,
          -0.02564033679664135,
          null,
          0.4657003581523895,
          0.4865707457065582,
          null,
          -0.28707167506217957,
          -0.2762156128883362,
          null,
          0.02219058945775032,
          0.02579558826982975,
          null,
          0.02579558826982975,
          0.02681814320385456,
          null,
          -0.08436223119497299,
          -0.09021320194005966,
          null,
          0.09439298510551453,
          -0.09021320194005966,
          null,
          0.02436388097703457,
          0.04772317409515381,
          null,
          0.06500767171382904,
          0.02415476366877556,
          null,
          0.04772317409515381,
          0.04870361089706421,
          null,
          0.02436388097703457,
          0.02219058945775032,
          null,
          0.21671582758426666,
          0.4035605192184448,
          null,
          0.4657003581523895,
          0.4581213891506195,
          null,
          -0.28707167506217957,
          -0.2758682668209076,
          null,
          -0.08436223119497299,
          -0.22567537426948547,
          null,
          0.4865707457065582,
          0.4581213891506195,
          null,
          0.04870361089706421,
          0.04683712497353554,
          null,
          0.21671582758426666,
          -0.08436223119497299,
          null,
          0.4035605192184448,
          0.4657003581523895,
          null
         ],
         "z": [
          0.3577614426612854,
          0.3535439372062683,
          null,
          0.2280236929655075,
          0.2546824514865875,
          null,
          0.21411877870559692,
          0.2546824514865875,
          null,
          0.6365863084793091,
          0.6181405186653137,
          null,
          0.3011121153831482,
          0.2280236929655075,
          null,
          0.47709405422210693,
          -0.004712908528745174,
          null,
          0.6357690691947937,
          0.5924866795539856,
          null,
          0.3577614426612854,
          0.36105525493621826,
          null,
          0.2280236929655075,
          0.23629511892795563,
          null,
          0.6489159464836121,
          0.6465753316879272,
          null,
          0.6465753316879272,
          0.6357690691947937,
          null,
          0.5362740159034729,
          0.013103106990456581,
          null,
          -0.004712908528745174,
          0.013103106990456581,
          null,
          0.6170272827148438,
          0.635943591594696,
          null,
          0.5994143486022949,
          0.570460855960846,
          null,
          0.635943591594696,
          0.6371604204177856,
          null,
          0.6170272827148438,
          0.6489159464836121,
          null,
          0.47709405422210693,
          0.3703615069389343,
          null,
          0.3577614426612854,
          0.39093732833862305,
          null,
          0.2280236929655075,
          0.21411877870559692,
          null,
          0.5362740159034729,
          0.3011121153831482,
          null,
          0.36105525493621826,
          0.39093732833862305,
          null,
          0.6371604204177856,
          0.6365863084793091,
          null,
          0.47709405422210693,
          0.5362740159034729,
          null,
          0.3703615069389343,
          0.3577614426612854,
          null
         ]
        }
       ],
       "layout": {
        "legend": {
         "tracegroupgap": 0
        },
        "margin": {
         "b": 0,
         "l": 0,
         "r": 0,
         "t": 0
        },
        "scene": {
         "camera": {
          "eye": {
           "x": 2.1,
           "y": 0,
           "z": 0
          }
         },
         "domain": {
          "x": [
           0,
           1
          ],
          "y": [
           0,
           1
          ]
         },
         "xaxis": {
          "title": {
           "text": "z"
          }
         },
         "yaxis": {
          "title": {
           "text": "x"
          }
         },
         "zaxis": {
          "title": {
           "text": "y"
          }
         }
        },
        "template": {
         "data": {
          "bar": [
           {
            "error_x": {
             "color": "#2a3f5f"
            },
            "error_y": {
             "color": "#2a3f5f"
            },
            "marker": {
             "line": {
              "color": "#E5ECF6",
              "width": 0.5
             },
             "pattern": {
              "fillmode": "overlay",
              "size": 10,
              "solidity": 0.2
             }
            },
            "type": "bar"
           }
          ],
          "barpolar": [
           {
            "marker": {
             "line": {
              "color": "#E5ECF6",
              "width": 0.5
             },
             "pattern": {
              "fillmode": "overlay",
              "size": 10,
              "solidity": 0.2
             }
            },
            "type": "barpolar"
           }
          ],
          "carpet": [
           {
            "aaxis": {
             "endlinecolor": "#2a3f5f",
             "gridcolor": "white",
             "linecolor": "white",
             "minorgridcolor": "white",
             "startlinecolor": "#2a3f5f"
            },
            "baxis": {
             "endlinecolor": "#2a3f5f",
             "gridcolor": "white",
             "linecolor": "white",
             "minorgridcolor": "white",
             "startlinecolor": "#2a3f5f"
            },
            "type": "carpet"
           }
          ],
          "choropleth": [
           {
            "colorbar": {
             "outlinewidth": 0,
             "ticks": ""
            },
            "type": "choropleth"
           }
          ],
          "contour": [
           {
            "colorbar": {
             "outlinewidth": 0,
             "ticks": ""
            },
            "colorscale": [
             [
              0,
              "#0d0887"
             ],
             [
              0.1111111111111111,
              "#46039f"
             ],
             [
              0.2222222222222222,
              "#7201a8"
             ],
             [
              0.3333333333333333,
              "#9c179e"
             ],
             [
              0.4444444444444444,
              "#bd3786"
             ],
             [
              0.5555555555555556,
              "#d8576b"
             ],
             [
              0.6666666666666666,
              "#ed7953"
             ],
             [
              0.7777777777777778,
              "#fb9f3a"
             ],
             [
              0.8888888888888888,
              "#fdca26"
             ],
             [
              1,
              "#f0f921"
             ]
            ],
            "type": "contour"
           }
          ],
          "contourcarpet": [
           {
            "colorbar": {
             "outlinewidth": 0,
             "ticks": ""
            },
            "type": "contourcarpet"
           }
          ],
          "heatmap": [
           {
            "colorbar": {
             "outlinewidth": 0,
             "ticks": ""
            },
            "colorscale": [
             [
              0,
              "#0d0887"
             ],
             [
              0.1111111111111111,
              "#46039f"
             ],
             [
              0.2222222222222222,
              "#7201a8"
             ],
             [
              0.3333333333333333,
              "#9c179e"
             ],
             [
              0.4444444444444444,
              "#bd3786"
             ],
             [
              0.5555555555555556,
              "#d8576b"
             ],
             [
              0.6666666666666666,
              "#ed7953"
             ],
             [
              0.7777777777777778,
              "#fb9f3a"
             ],
             [
              0.8888888888888888,
              "#fdca26"
             ],
             [
              1,
              "#f0f921"
             ]
            ],
            "type": "heatmap"
           }
          ],
          "heatmapgl": [
           {
            "colorbar": {
             "outlinewidth": 0,
             "ticks": ""
            },
            "colorscale": [
             [
              0,
              "#0d0887"
             ],
             [
              0.1111111111111111,
              "#46039f"
             ],
             [
              0.2222222222222222,
              "#7201a8"
             ],
             [
              0.3333333333333333,
              "#9c179e"
             ],
             [
              0.4444444444444444,
              "#bd3786"
             ],
             [
              0.5555555555555556,
              "#d8576b"
             ],
             [
              0.6666666666666666,
              "#ed7953"
             ],
             [
              0.7777777777777778,
              "#fb9f3a"
             ],
             [
              0.8888888888888888,
              "#fdca26"
             ],
             [
              1,
              "#f0f921"
             ]
            ],
            "type": "heatmapgl"
           }
          ],
          "histogram": [
           {
            "marker": {
             "pattern": {
              "fillmode": "overlay",
              "size": 10,
              "solidity": 0.2
             }
            },
            "type": "histogram"
           }
          ],
          "histogram2d": [
           {
            "colorbar": {
             "outlinewidth": 0,
             "ticks": ""
            },
            "colorscale": [
             [
              0,
              "#0d0887"
             ],
             [
              0.1111111111111111,
              "#46039f"
             ],
             [
              0.2222222222222222,
              "#7201a8"
             ],
             [
              0.3333333333333333,
              "#9c179e"
             ],
             [
              0.4444444444444444,
              "#bd3786"
             ],
             [
              0.5555555555555556,
              "#d8576b"
             ],
             [
              0.6666666666666666,
              "#ed7953"
             ],
             [
              0.7777777777777778,
              "#fb9f3a"
             ],
             [
              0.8888888888888888,
              "#fdca26"
             ],
             [
              1,
              "#f0f921"
             ]
            ],
            "type": "histogram2d"
           }
          ],
          "histogram2dcontour": [
           {
            "colorbar": {
             "outlinewidth": 0,
             "ticks": ""
            },
            "colorscale": [
             [
              0,
              "#0d0887"
             ],
             [
              0.1111111111111111,
              "#46039f"
             ],
             [
              0.2222222222222222,
              "#7201a8"
             ],
             [
              0.3333333333333333,
              "#9c179e"
             ],
             [
              0.4444444444444444,
              "#bd3786"
             ],
             [
              0.5555555555555556,
              "#d8576b"
             ],
             [
              0.6666666666666666,
              "#ed7953"
             ],
             [
              0.7777777777777778,
              "#fb9f3a"
             ],
             [
              0.8888888888888888,
              "#fdca26"
             ],
             [
              1,
              "#f0f921"
             ]
            ],
            "type": "histogram2dcontour"
           }
          ],
          "mesh3d": [
           {
            "colorbar": {
             "outlinewidth": 0,
             "ticks": ""
            },
            "type": "mesh3d"
           }
          ],
          "parcoords": [
           {
            "line": {
             "colorbar": {
              "outlinewidth": 0,
              "ticks": ""
             }
            },
            "type": "parcoords"
           }
          ],
          "pie": [
           {
            "automargin": true,
            "type": "pie"
           }
          ],
          "scatter": [
           {
            "fillpattern": {
             "fillmode": "overlay",
             "size": 10,
             "solidity": 0.2
            },
            "type": "scatter"
           }
          ],
          "scatter3d": [
           {
            "line": {
             "colorbar": {
              "outlinewidth": 0,
              "ticks": ""
             }
            },
            "marker": {
             "colorbar": {
              "outlinewidth": 0,
              "ticks": ""
             }
            },
            "type": "scatter3d"
           }
          ],
          "scattercarpet": [
           {
            "marker": {
             "colorbar": {
              "outlinewidth": 0,
              "ticks": ""
             }
            },
            "type": "scattercarpet"
           }
          ],
          "scattergeo": [
           {
            "marker": {
             "colorbar": {
              "outlinewidth": 0,
              "ticks": ""
             }
            },
            "type": "scattergeo"
           }
          ],
          "scattergl": [
           {
            "marker": {
             "colorbar": {
              "outlinewidth": 0,
              "ticks": ""
             }
            },
            "type": "scattergl"
           }
          ],
          "scattermapbox": [
           {
            "marker": {
             "colorbar": {
              "outlinewidth": 0,
              "ticks": ""
             }
            },
            "type": "scattermapbox"
           }
          ],
          "scatterpolar": [
           {
            "marker": {
             "colorbar": {
              "outlinewidth": 0,
              "ticks": ""
             }
            },
            "type": "scatterpolar"
           }
          ],
          "scatterpolargl": [
           {
            "marker": {
             "colorbar": {
              "outlinewidth": 0,
              "ticks": ""
             }
            },
            "type": "scatterpolargl"
           }
          ],
          "scatterternary": [
           {
            "marker": {
             "colorbar": {
              "outlinewidth": 0,
              "ticks": ""
             }
            },
            "type": "scatterternary"
           }
          ],
          "surface": [
           {
            "colorbar": {
             "outlinewidth": 0,
             "ticks": ""
            },
            "colorscale": [
             [
              0,
              "#0d0887"
             ],
             [
              0.1111111111111111,
              "#46039f"
             ],
             [
              0.2222222222222222,
              "#7201a8"
             ],
             [
              0.3333333333333333,
              "#9c179e"
             ],
             [
              0.4444444444444444,
              "#bd3786"
             ],
             [
              0.5555555555555556,
              "#d8576b"
             ],
             [
              0.6666666666666666,
              "#ed7953"
             ],
             [
              0.7777777777777778,
              "#fb9f3a"
             ],
             [
              0.8888888888888888,
              "#fdca26"
             ],
             [
              1,
              "#f0f921"
             ]
            ],
            "type": "surface"
           }
          ],
          "table": [
           {
            "cells": {
             "fill": {
              "color": "#EBF0F8"
             },
             "line": {
              "color": "white"
             }
            },
            "header": {
             "fill": {
              "color": "#C8D4E3"
             },
             "line": {
              "color": "white"
             }
            },
            "type": "table"
           }
          ]
         },
         "layout": {
          "annotationdefaults": {
           "arrowcolor": "#2a3f5f",
           "arrowhead": 0,
           "arrowwidth": 1
          },
          "autotypenumbers": "strict",
          "coloraxis": {
           "colorbar": {
            "outlinewidth": 0,
            "ticks": ""
           }
          },
          "colorscale": {
           "diverging": [
            [
             0,
             "#8e0152"
            ],
            [
             0.1,
             "#c51b7d"
            ],
            [
             0.2,
             "#de77ae"
            ],
            [
             0.3,
             "#f1b6da"
            ],
            [
             0.4,
             "#fde0ef"
            ],
            [
             0.5,
             "#f7f7f7"
            ],
            [
             0.6,
             "#e6f5d0"
            ],
            [
             0.7,
             "#b8e186"
            ],
            [
             0.8,
             "#7fbc41"
            ],
            [
             0.9,
             "#4d9221"
            ],
            [
             1,
             "#276419"
            ]
           ],
           "sequential": [
            [
             0,
             "#0d0887"
            ],
            [
             0.1111111111111111,
             "#46039f"
            ],
            [
             0.2222222222222222,
             "#7201a8"
            ],
            [
             0.3333333333333333,
             "#9c179e"
            ],
            [
             0.4444444444444444,
             "#bd3786"
            ],
            [
             0.5555555555555556,
             "#d8576b"
            ],
            [
             0.6666666666666666,
             "#ed7953"
            ],
            [
             0.7777777777777778,
             "#fb9f3a"
            ],
            [
             0.8888888888888888,
             "#fdca26"
            ],
            [
             1,
             "#f0f921"
            ]
           ],
           "sequentialminus": [
            [
             0,
             "#0d0887"
            ],
            [
             0.1111111111111111,
             "#46039f"
            ],
            [
             0.2222222222222222,
             "#7201a8"
            ],
            [
             0.3333333333333333,
             "#9c179e"
            ],
            [
             0.4444444444444444,
             "#bd3786"
            ],
            [
             0.5555555555555556,
             "#d8576b"
            ],
            [
             0.6666666666666666,
             "#ed7953"
            ],
            [
             0.7777777777777778,
             "#fb9f3a"
            ],
            [
             0.8888888888888888,
             "#fdca26"
            ],
            [
             1,
             "#f0f921"
            ]
           ]
          },
          "colorway": [
           "#636efa",
           "#EF553B",
           "#00cc96",
           "#ab63fa",
           "#FFA15A",
           "#19d3f3",
           "#FF6692",
           "#B6E880",
           "#FF97FF",
           "#FECB52"
          ],
          "font": {
           "color": "#2a3f5f"
          },
          "geo": {
           "bgcolor": "white",
           "lakecolor": "white",
           "landcolor": "#E5ECF6",
           "showlakes": true,
           "showland": true,
           "subunitcolor": "white"
          },
          "hoverlabel": {
           "align": "left"
          },
          "hovermode": "closest",
          "mapbox": {
           "style": "light"
          },
          "paper_bgcolor": "white",
          "plot_bgcolor": "#E5ECF6",
          "polar": {
           "angularaxis": {
            "gridcolor": "white",
            "linecolor": "white",
            "ticks": ""
           },
           "bgcolor": "#E5ECF6",
           "radialaxis": {
            "gridcolor": "white",
            "linecolor": "white",
            "ticks": ""
           }
          },
          "scene": {
           "xaxis": {
            "backgroundcolor": "#E5ECF6",
            "gridcolor": "white",
            "gridwidth": 2,
            "linecolor": "white",
            "showbackground": true,
            "ticks": "",
            "zerolinecolor": "white"
           },
           "yaxis": {
            "backgroundcolor": "#E5ECF6",
            "gridcolor": "white",
            "gridwidth": 2,
            "linecolor": "white",
            "showbackground": true,
            "ticks": "",
            "zerolinecolor": "white"
           },
           "zaxis": {
            "backgroundcolor": "#E5ECF6",
            "gridcolor": "white",
            "gridwidth": 2,
            "linecolor": "white",
            "showbackground": true,
            "ticks": "",
            "zerolinecolor": "white"
           }
          },
          "shapedefaults": {
           "line": {
            "color": "#2a3f5f"
           }
          },
          "ternary": {
           "aaxis": {
            "gridcolor": "white",
            "linecolor": "white",
            "ticks": ""
           },
           "baxis": {
            "gridcolor": "white",
            "linecolor": "white",
            "ticks": ""
           },
           "bgcolor": "#E5ECF6",
           "caxis": {
            "gridcolor": "white",
            "linecolor": "white",
            "ticks": ""
           }
          },
          "title": {
           "x": 0.05
          },
          "xaxis": {
           "automargin": true,
           "gridcolor": "white",
           "linecolor": "white",
           "ticks": "",
           "title": {
            "standoff": 15
           },
           "zerolinecolor": "white",
           "zerolinewidth": 2
          },
          "yaxis": {
           "automargin": true,
           "gridcolor": "white",
           "linecolor": "white",
           "ticks": "",
           "title": {
            "standoff": 15
           },
           "zerolinecolor": "white",
           "zerolinewidth": 2
          }
         }
        }
       }
      }
     },
     "metadata": {},
     "output_type": "display_data"
    }
   ],
   "source": [
    "plot_3d_landmarks(\n",
    "    landmark_list=vid.landmarks_series[-5],\n",
    "    connections=mp.solutions.pose.POSE_CONNECTIONS,\n",
    ")\n"
   ]
  }
 ],
 "metadata": {
  "kernelspec": {
   "display_name": "Python 3.8.10 ('bwest-kKtnXqVU-py3.8')",
   "language": "python",
   "name": "python3"
  },
  "language_info": {
   "codemirror_mode": {
    "name": "ipython",
    "version": 3
   },
   "file_extension": ".py",
   "mimetype": "text/x-python",
   "name": "python",
   "nbconvert_exporter": "python",
   "pygments_lexer": "ipython3",
   "version": "3.8.10"
  },
  "orig_nbformat": 4,
  "vscode": {
   "interpreter": {
    "hash": "bb3ecc132ea45047b41482cfe405e4b464f8287fd2e425f10bacedf5bd881be9"
   }
  }
 },
 "nbformat": 4,
 "nbformat_minor": 2
}
